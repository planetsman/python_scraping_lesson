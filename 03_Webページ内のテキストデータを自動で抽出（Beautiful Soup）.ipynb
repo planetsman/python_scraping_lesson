{
 "cells": [
  {
   "cell_type": "code",
   "execution_count": 4,
   "id": "971f6598-ef6b-4e71-ba4f-179ed87436b7",
   "metadata": {},
   "outputs": [
    {
     "name": "stdout",
     "output_type": "stream",
     "text": [
      "Requirement already satisfied: requests in ./miniforge3/envs/ds_env/lib/python3.9/site-packages (2.27.1)\n",
      "Requirement already satisfied: certifi>=2017.4.17 in ./miniforge3/envs/ds_env/lib/python3.9/site-packages (from requests) (2021.10.8)\n",
      "Requirement already satisfied: idna<4,>=2.5 in ./miniforge3/envs/ds_env/lib/python3.9/site-packages (from requests) (3.3)\n",
      "Requirement already satisfied: urllib3<1.27,>=1.21.1 in ./miniforge3/envs/ds_env/lib/python3.9/site-packages (from requests) (1.26.8)\n",
      "Requirement already satisfied: charset-normalizer~=2.0.0 in ./miniforge3/envs/ds_env/lib/python3.9/site-packages (from requests) (2.0.12)\n"
     ]
    }
   ],
   "source": [
    "!pip install requests"
   ]
  },
  {
   "cell_type": "code",
   "execution_count": 5,
   "id": "d8f8d9d0-52a4-4a39-b1ff-f9e4a5850dfe",
   "metadata": {},
   "outputs": [
    {
     "name": "stdout",
     "output_type": "stream",
     "text": [
      "Requirement already satisfied: BeautifulSoup4 in ./miniforge3/envs/ds_env/lib/python3.9/site-packages (4.10.0)\n",
      "Requirement already satisfied: soupsieve>1.2 in ./miniforge3/envs/ds_env/lib/python3.9/site-packages (from BeautifulSoup4) (2.3.1)\n"
     ]
    }
   ],
   "source": [
    "!pip install BeautifulSoup4"
   ]
  },
  {
   "cell_type": "code",
   "execution_count": 6,
   "id": "158bc82c-d534-4940-a5c2-30b21de709bc",
   "metadata": {},
   "outputs": [],
   "source": [
    "import requests\n",
    "from bs4 import BeautifulSoup"
   ]
  },
  {
   "cell_type": "code",
   "execution_count": 7,
   "id": "9d8680e8-9998-4c04-a964-5ac28a3ccd18",
   "metadata": {},
   "outputs": [],
   "source": [
    "url = 'https://scraping-for-beginner.herokuapp.com/udemy'\n",
    "res = requests.get(url)"
   ]
  },
  {
   "cell_type": "code",
   "execution_count": 37,
   "id": "3fd76f7e-5ef4-4e38-af75-34de5dcba01c",
   "metadata": {},
   "outputs": [],
   "source": [
    "# htmlをテキストで出力\n",
    "# res.text"
   ]
  },
  {
   "cell_type": "code",
   "execution_count": 36,
   "id": "1ab4d2bf-11b8-47e0-babb-5cb3e677bc2f",
   "metadata": {},
   "outputs": [],
   "source": [
    "# htmlの構造を解析する\n",
    "soup = BeautifulSoup(res.text,'html.parser')\n",
    "# soup\n",
    "# インデントを直して表示\n",
    "# print(soup.prettify())"
   ]
  },
  {
   "cell_type": "code",
   "execution_count": 11,
   "id": "40161990-2a86-4da5-a9bb-4bc6aace76a7",
   "metadata": {},
   "outputs": [
    {
     "data": {
      "text/plain": [
       "[<p>\n",
       "       こちらのページは、<b>PythonによるWebスクレイピング〜Webアプリケーション編〜</b>で使用します。\n",
       "       </p>,\n",
       " <p><b><p class=\"position\">いまにゅのプログラミング塾｜code4biz 代表</p></b><br/>\n",
       " \n",
       "             『プログラミング×〇〇』でビジネス戦闘力を向上させる｜東京理科大出身｜元東北大学 非常勤講師｜東進デジタルユニバーシティ最年少講師｜AI教育系ベンチャー（キカガク）取締役 → 今｜Udemy受講生3.3万人｜YouTubeチャンネル登録者10.5万人｜プログラミング初学者に欠かせない学習法等を発信<br/>\n",
       " </p>,\n",
       " <p class=\"position\">いまにゅのプログラミング塾｜code4biz 代表</p>,\n",
       " <p class=\"subscribers\">受講生の数：15676</p>,\n",
       " <p class=\"reviews\">レビューの数：2680</p>]"
      ]
     },
     "execution_count": 11,
     "metadata": {},
     "output_type": "execute_result"
    }
   ],
   "source": [
    "# pタグを全て取得\n",
    "soup.find_all('p')"
   ]
  },
  {
   "cell_type": "code",
   "execution_count": 30,
   "id": "53163506-1ec3-4934-b19b-8dc322d88f59",
   "metadata": {},
   "outputs": [
    {
     "data": {
      "text/plain": [
       "15676"
      ]
     },
     "execution_count": 30,
     "metadata": {},
     "output_type": "execute_result"
    }
   ],
   "source": [
    "# クラスsubscribersを取得\n",
    "subscribers = soup.find_all('p',attrs={'class':'subscribers'})[0]\n",
    "# テキストを分割、数値をint型で取り出す\n",
    "n_scribers = int(subscribers.text.split('：')[1])\n",
    "n_scribers"
   ]
  },
  {
   "cell_type": "code",
   "execution_count": 29,
   "id": "e18a1bb2-7eff-4166-bb77-329d6e0649f4",
   "metadata": {},
   "outputs": [
    {
     "data": {
      "text/plain": [
       "2680"
      ]
     },
     "execution_count": 29,
     "metadata": {},
     "output_type": "execute_result"
    }
   ],
   "source": [
    "# クラスsreviewsを取得\n",
    "reviews = soup.find_all('p',attrs={'class':'reviews'})[0]\n",
    "# テキストを分割、数値をint型で取り出す\n",
    "n_reviews = int(reviews.text.split('：')[1])\n",
    "n_reviews"
   ]
  },
  {
   "cell_type": "code",
   "execution_count": 33,
   "id": "f8295d45-5636-4b79-83ab-f8cf600197a2",
   "metadata": {},
   "outputs": [
    {
     "data": {
      "text/plain": [
       "<p class=\"subscribers\">受講生の数：15676</p>"
      ]
     },
     "execution_count": 33,
     "metadata": {},
     "output_type": "execute_result"
    }
   ],
   "source": [
    "# cssセレクタで取得\n",
    "soup.select_one('.subscribers')"
   ]
  },
  {
   "cell_type": "code",
   "execution_count": 34,
   "id": "fe384c7c-0291-4854-b5d6-600a3fd9bb73",
   "metadata": {},
   "outputs": [
    {
     "data": {
      "text/plain": [
       "<p class=\"reviews\">レビューの数：2680</p>"
      ]
     },
     "execution_count": 34,
     "metadata": {},
     "output_type": "execute_result"
    }
   ],
   "source": [
    "# cssセレクタで取得\n",
    "soup.select_one('.reviews')"
   ]
  },
  {
   "cell_type": "code",
   "execution_count": null,
   "id": "b629e741-faa7-47d8-bb87-680dbdc32309",
   "metadata": {},
   "outputs": [],
   "source": []
  },
  {
   "cell_type": "code",
   "execution_count": null,
   "id": "c5c8f90f-4060-4b12-a2fe-9846a04c3aca",
   "metadata": {},
   "outputs": [],
   "source": []
  },
  {
   "cell_type": "code",
   "execution_count": null,
   "id": "222b1970-d836-49b2-9f58-fd7d57f57be8",
   "metadata": {},
   "outputs": [],
   "source": []
  },
  {
   "cell_type": "code",
   "execution_count": null,
   "id": "9339a60f-a759-45bf-94fe-11f54a9aaa0f",
   "metadata": {},
   "outputs": [],
   "source": []
  },
  {
   "cell_type": "code",
   "execution_count": null,
   "id": "92ca2ce4-b05a-46c2-b9ba-118e8ba4f08b",
   "metadata": {},
   "outputs": [],
   "source": []
  },
  {
   "cell_type": "code",
   "execution_count": null,
   "id": "5841e35e-545c-4d13-aa4a-0b5e750c5807",
   "metadata": {},
   "outputs": [],
   "source": []
  },
  {
   "cell_type": "code",
   "execution_count": null,
   "id": "7a65b352-c070-4df9-894f-7b9b8cb1ee80",
   "metadata": {},
   "outputs": [],
   "source": []
  }
 ],
 "metadata": {
  "kernelspec": {
   "display_name": "Python 3 (ipykernel)",
   "language": "python",
   "name": "python3"
  },
  "language_info": {
   "codemirror_mode": {
    "name": "ipython",
    "version": 3
   },
   "file_extension": ".py",
   "mimetype": "text/x-python",
   "name": "python",
   "nbconvert_exporter": "python",
   "pygments_lexer": "ipython3",
   "version": "3.9.10"
  }
 },
 "nbformat": 4,
 "nbformat_minor": 5
}
