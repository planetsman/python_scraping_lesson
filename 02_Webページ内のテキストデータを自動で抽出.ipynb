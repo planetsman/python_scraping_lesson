{
 "cells": [
  {
   "cell_type": "code",
   "execution_count": 13,
   "id": "8fb59048-783a-4b05-8955-c7911a81a8ca",
   "metadata": {},
   "outputs": [],
   "source": [
    "from selenium import webdriver\n",
    "import os\n",
    "from time import sleep"
   ]
  },
  {
   "cell_type": "code",
   "execution_count": 9,
   "id": "b2e5ed76-04a8-402f-b75d-a4b875f3e010",
   "metadata": {},
   "outputs": [
    {
     "name": "stderr",
     "output_type": "stream",
     "text": [
      "/var/folders/sw/90h3_3b15dvfvfdv0gm3tmb80000gn/T/ipykernel_24934/3025331011.py:2: DeprecationWarning: executable_path has been deprecated, please pass in a Service object\n",
      "  browser = webdriver.Chrome(PATH_TO_CHROME_DRIVER)\n"
     ]
    }
   ],
   "source": []
  },
  {
   "cell_type": "code",
   "execution_count": 14,
   "id": "07e8963e-3297-48be-b00c-2628c43d6d51",
   "metadata": {},
   "outputs": [
    {
     "name": "stderr",
     "output_type": "stream",
     "text": [
      "/var/folders/sw/90h3_3b15dvfvfdv0gm3tmb80000gn/T/ipykernel_24934/2004608035.py:2: DeprecationWarning: executable_path has been deprecated, please pass in a Service object\n",
      "  browser = webdriver.Chrome(PATH_TO_CHROME_DRIVER)\n",
      "/var/folders/sw/90h3_3b15dvfvfdv0gm3tmb80000gn/T/ipykernel_24934/2004608035.py:8: DeprecationWarning: find_element_by_* commands are deprecated. Please use find_element() instead\n",
      "  elem_username = browser.find_element_by_id('username')\n",
      "/var/folders/sw/90h3_3b15dvfvfdv0gm3tmb80000gn/T/ipykernel_24934/2004608035.py:11: DeprecationWarning: find_element_by_* commands are deprecated. Please use find_element() instead\n",
      "  elem_password = browser.find_element_by_id('password')\n",
      "/var/folders/sw/90h3_3b15dvfvfdv0gm3tmb80000gn/T/ipykernel_24934/2004608035.py:14: DeprecationWarning: find_element_by_* commands are deprecated. Please use find_element() instead\n",
      "  elem_login_btn = browser.find_element_by_id('login-btn')\n"
     ]
    }
   ],
   "source": [
    "PATH_TO_CHROME_DRIVER = f\"{os.getcwd()}/chromedriver\"\n",
    "browser = webdriver.Chrome(PATH_TO_CHROME_DRIVER)\n",
    "\n",
    "url = 'https://scraping-for-beginner.herokuapp.com/login_page'\n",
    "browser.get(url)\n",
    "sleep(3)\n",
    "\n",
    "elem_username = browser.find_element_by_id('username')\n",
    "elem_username.send_keys('imanishi')\n",
    "\n",
    "elem_password = browser.find_element_by_id('password')\n",
    "elem_password.send_keys('kohei')\n",
    "\n",
    "elem_login_btn = browser.find_element_by_id('login-btn')\n",
    "elem_login_btn.click()"
   ]
  },
  {
   "cell_type": "code",
   "execution_count": 17,
   "id": "4616ff8b-b124-4c5e-9665-0613563b7dbd",
   "metadata": {},
   "outputs": [
    {
     "name": "stderr",
     "output_type": "stream",
     "text": [
      "/var/folders/sw/90h3_3b15dvfvfdv0gm3tmb80000gn/T/ipykernel_24934/928908932.py:1: DeprecationWarning: find_element_by_* commands are deprecated. Please use find_element() instead\n",
      "  elem = browser.find_element_by_id('name')\n"
     ]
    }
   ],
   "source": [
    "elem_name = browser.find_element_by_id('name')"
   ]
  },
  {
   "cell_type": "code",
   "execution_count": 21,
   "id": "0a0b7985-1e32-4cb2-933e-51ca18f1bfe9",
   "metadata": {},
   "outputs": [
    {
     "data": {
      "text/plain": [
       "'今西 航平'"
      ]
     },
     "execution_count": 21,
     "metadata": {},
     "output_type": "execute_result"
    }
   ],
   "source": [
    "elem_name.text"
   ]
  },
  {
   "cell_type": "code",
   "execution_count": 22,
   "id": "af8cee98-9488-4258-a969-670f35f8f025",
   "metadata": {},
   "outputs": [
    {
     "name": "stderr",
     "output_type": "stream",
     "text": [
      "/var/folders/sw/90h3_3b15dvfvfdv0gm3tmb80000gn/T/ipykernel_24934/1074895142.py:1: DeprecationWarning: find_element_by_* commands are deprecated. Please use find_element() instead\n",
      "  elem_company = browser.find_element_by_id('company')\n"
     ]
    }
   ],
   "source": [
    "elem_company = browser.find_element_by_id('company')"
   ]
  },
  {
   "cell_type": "code",
   "execution_count": 23,
   "id": "b9b0018a-43c1-4cd3-91b9-59362723501d",
   "metadata": {},
   "outputs": [
    {
     "data": {
      "text/plain": [
       "'株式会社キカガク'"
      ]
     },
     "execution_count": 23,
     "metadata": {},
     "output_type": "execute_result"
    }
   ],
   "source": [
    "elem_company.text"
   ]
  },
  {
   "cell_type": "code",
   "execution_count": 25,
   "id": "73263232-cffd-437a-8c9c-a8dc57cff489",
   "metadata": {},
   "outputs": [
    {
     "name": "stderr",
     "output_type": "stream",
     "text": [
      "/var/folders/sw/90h3_3b15dvfvfdv0gm3tmb80000gn/T/ipykernel_24934/2386708773.py:1: DeprecationWarning: find_element_by_* commands are deprecated. Please use find_element() instead\n",
      "  elem_birthday = browser.find_element_by_id('birthday')\n"
     ]
    }
   ],
   "source": [
    "elem_birthday = browser.find_element_by_id('birthday')"
   ]
  },
  {
   "cell_type": "code",
   "execution_count": 26,
   "id": "4cd2fedf-4b65-4f93-9426-2b03c8ccde3d",
   "metadata": {},
   "outputs": [
    {
     "data": {
      "text/plain": [
       "'1994年7月15日'"
      ]
     },
     "execution_count": 26,
     "metadata": {},
     "output_type": "execute_result"
    }
   ],
   "source": [
    "elem_birthday.text"
   ]
  },
  {
   "cell_type": "code",
   "execution_count": 27,
   "id": "5c467f62-1a97-48f3-a0d5-1c547dbe4ec2",
   "metadata": {},
   "outputs": [
    {
     "name": "stderr",
     "output_type": "stream",
     "text": [
      "/var/folders/sw/90h3_3b15dvfvfdv0gm3tmb80000gn/T/ipykernel_24934/2911150185.py:1: DeprecationWarning: find_element_by_* commands are deprecated. Please use find_element() instead\n",
      "  elem_come_from = browser.find_element_by_id('come_from')\n"
     ]
    }
   ],
   "source": [
    "elem_come_from = browser.find_element_by_id('come_from')"
   ]
  },
  {
   "cell_type": "code",
   "execution_count": 28,
   "id": "6073b821-d97c-4286-9391-8313ce4285bc",
   "metadata": {},
   "outputs": [
    {
     "data": {
      "text/plain": [
       "'千葉県'"
      ]
     },
     "execution_count": 28,
     "metadata": {},
     "output_type": "execute_result"
    }
   ],
   "source": [
    "elem_come_from.text"
   ]
  },
  {
   "cell_type": "code",
   "execution_count": 30,
   "id": "a27c687c-7fcc-4178-bafb-b8a05423e964",
   "metadata": {},
   "outputs": [
    {
     "name": "stderr",
     "output_type": "stream",
     "text": [
      "/var/folders/sw/90h3_3b15dvfvfdv0gm3tmb80000gn/T/ipykernel_24934/3540295290.py:1: DeprecationWarning: find_element_by_* commands are deprecated. Please use find_element() instead\n",
      "  elem_hobby = browser.find_element_by_id('hobby')\n"
     ]
    }
   ],
   "source": [
    "elem_hobby = browser.find_element_by_id('hobby')"
   ]
  },
  {
   "cell_type": "code",
   "execution_count": 31,
   "id": "0a621fdc-e3e0-4166-aa1c-c6c9b7443988",
   "metadata": {},
   "outputs": [
    {
     "data": {
      "text/plain": [
       "'バスケットボール\\n読書\\nガジェット集め'"
      ]
     },
     "execution_count": 31,
     "metadata": {},
     "output_type": "execute_result"
    }
   ],
   "source": [
    "elem_hobby.text"
   ]
  },
  {
   "cell_type": "code",
   "execution_count": 40,
   "id": "71814063-3ada-45ce-a9a7-7e7ead36bf13",
   "metadata": {},
   "outputs": [
    {
     "name": "stderr",
     "output_type": "stream",
     "text": [
      "/var/folders/sw/90h3_3b15dvfvfdv0gm3tmb80000gn/T/ipykernel_24934/827413641.py:1: DeprecationWarning: find_element_by_tag_name is deprecated. Please use find_element(by=By.TAG_NAME, value=name) instead\n",
      "  elem_th = browser.find_element_by_tag_name('th')\n"
     ]
    }
   ],
   "source": [
    "elem_th = browser.find_element_by_tag_name('th')"
   ]
  },
  {
   "cell_type": "code",
   "execution_count": 41,
   "id": "23cb9179-2366-4153-89a8-2975bf3706fd",
   "metadata": {},
   "outputs": [
    {
     "data": {
      "text/plain": [
       "'講師名'"
      ]
     },
     "execution_count": 41,
     "metadata": {},
     "output_type": "execute_result"
    }
   ],
   "source": [
    "elem_th.text"
   ]
  },
  {
   "cell_type": "code",
   "execution_count": 42,
   "id": "90ae00c1-989f-4184-9c5b-243d60a7d806",
   "metadata": {},
   "outputs": [
    {
     "name": "stderr",
     "output_type": "stream",
     "text": [
      "/var/folders/sw/90h3_3b15dvfvfdv0gm3tmb80000gn/T/ipykernel_24934/318575842.py:1: DeprecationWarning: find_elements_by_tag_name is deprecated. Please use find_elements(by=By.TAG_NAME, value=name) instead\n",
      "  elems_th = browser.find_elements_by_tag_name('th')\n"
     ]
    }
   ],
   "source": [
    "elems_th = browser.find_elements_by_tag_name('th')"
   ]
  },
  {
   "cell_type": "code",
   "execution_count": 44,
   "id": "32eeb903-4bce-4e5d-a278-4c3bde409b82",
   "metadata": {},
   "outputs": [
    {
     "data": {
      "text/plain": [
       "[<selenium.webdriver.remote.webelement.WebElement (session=\"7869c2a5fd3ffdee3419afd96d384766\", element=\"f300147d-5b28-43ca-8fe8-087e0421cf95\")>,\n",
       " <selenium.webdriver.remote.webelement.WebElement (session=\"7869c2a5fd3ffdee3419afd96d384766\", element=\"bc65ea8f-38cf-42d3-bb85-4d811a62b045\")>,\n",
       " <selenium.webdriver.remote.webelement.WebElement (session=\"7869c2a5fd3ffdee3419afd96d384766\", element=\"268cd2ef-ad42-43c5-9354-5474bf5fa365\")>,\n",
       " <selenium.webdriver.remote.webelement.WebElement (session=\"7869c2a5fd3ffdee3419afd96d384766\", element=\"a4e4d482-735f-4111-bdde-d9184367bc64\")>,\n",
       " <selenium.webdriver.remote.webelement.WebElement (session=\"7869c2a5fd3ffdee3419afd96d384766\", element=\"a0944160-d2bb-4650-8159-3623a2fa0c2c\")>]"
      ]
     },
     "execution_count": 44,
     "metadata": {},
     "output_type": "execute_result"
    }
   ],
   "source": [
    "elems_th"
   ]
  },
  {
   "cell_type": "code",
   "execution_count": 49,
   "id": "ff519540-c96e-4a8f-8179-834617d8ef5d",
   "metadata": {},
   "outputs": [],
   "source": [
    "keys = []\n",
    "for elem_th in elems_th:\n",
    "    key = elem_th.text\n",
    "    keys.append(key)"
   ]
  },
  {
   "cell_type": "code",
   "execution_count": 61,
   "id": "1de3cc69-d4e4-49d9-b8c6-164ed5d1de99",
   "metadata": {},
   "outputs": [
    {
     "data": {
      "text/plain": [
       "['講師名', '所属企業', '生年月日', '出身', '趣味']"
      ]
     },
     "execution_count": 61,
     "metadata": {},
     "output_type": "execute_result"
    }
   ],
   "source": [
    "keys"
   ]
  },
  {
   "cell_type": "code",
   "execution_count": 52,
   "id": "bc8e91c4-8127-4d2d-a30e-f91c16b2c2d9",
   "metadata": {},
   "outputs": [
    {
     "name": "stderr",
     "output_type": "stream",
     "text": [
      "/var/folders/sw/90h3_3b15dvfvfdv0gm3tmb80000gn/T/ipykernel_24934/2488502237.py:1: DeprecationWarning: find_elements_by_tag_name is deprecated. Please use find_elements(by=By.TAG_NAME, value=name) instead\n",
      "  elems_td = browser.find_elements_by_tag_name('td')\n"
     ]
    }
   ],
   "source": [
    "elems_td = browser.find_elements_by_tag_name('td')\n",
    "\n",
    "values = []\n",
    "for elem_td in elems_td:\n",
    "    value = elem_td.text\n",
    "    values.append(value)"
   ]
  },
  {
   "cell_type": "code",
   "execution_count": 53,
   "id": "13771046-a32b-465b-920b-0343e73b9358",
   "metadata": {},
   "outputs": [
    {
     "data": {
      "text/plain": [
       "['今西 航平', '株式会社キカガク', '1994年7月15日', '千葉県', 'バスケットボール\\n読書\\nガジェット集め']"
      ]
     },
     "execution_count": 53,
     "metadata": {},
     "output_type": "execute_result"
    }
   ],
   "source": [
    "values"
   ]
  },
  {
   "cell_type": "code",
   "execution_count": 54,
   "id": "c04c333f-dff5-4ac7-bd6f-1a92e1e1ddfc",
   "metadata": {},
   "outputs": [],
   "source": [
    "import pandas as pd"
   ]
  },
  {
   "cell_type": "code",
   "execution_count": 57,
   "id": "04a8bbc0-0bb0-47dd-8bd9-638731d859aa",
   "metadata": {},
   "outputs": [],
   "source": [
    "df = pd.DataFrame()"
   ]
  },
  {
   "cell_type": "code",
   "execution_count": 59,
   "id": "7e0bd353-983a-4588-97a4-600bbd2306a3",
   "metadata": {},
   "outputs": [],
   "source": [
    "df['項目']=keys\n",
    "df['値']=values"
   ]
  },
  {
   "cell_type": "code",
   "execution_count": 60,
   "id": "f0d6dccb-5a32-4bfe-8e63-b515ce7e1fcb",
   "metadata": {},
   "outputs": [
    {
     "data": {
      "text/html": [
       "<div>\n",
       "<style scoped>\n",
       "    .dataframe tbody tr th:only-of-type {\n",
       "        vertical-align: middle;\n",
       "    }\n",
       "\n",
       "    .dataframe tbody tr th {\n",
       "        vertical-align: top;\n",
       "    }\n",
       "\n",
       "    .dataframe thead th {\n",
       "        text-align: right;\n",
       "    }\n",
       "</style>\n",
       "<table border=\"1\" class=\"dataframe\">\n",
       "  <thead>\n",
       "    <tr style=\"text-align: right;\">\n",
       "      <th></th>\n",
       "      <th>項目</th>\n",
       "      <th>値</th>\n",
       "    </tr>\n",
       "  </thead>\n",
       "  <tbody>\n",
       "    <tr>\n",
       "      <th>0</th>\n",
       "      <td>講師名</td>\n",
       "      <td>今西 航平</td>\n",
       "    </tr>\n",
       "    <tr>\n",
       "      <th>1</th>\n",
       "      <td>所属企業</td>\n",
       "      <td>株式会社キカガク</td>\n",
       "    </tr>\n",
       "    <tr>\n",
       "      <th>2</th>\n",
       "      <td>生年月日</td>\n",
       "      <td>1994年7月15日</td>\n",
       "    </tr>\n",
       "    <tr>\n",
       "      <th>3</th>\n",
       "      <td>出身</td>\n",
       "      <td>千葉県</td>\n",
       "    </tr>\n",
       "    <tr>\n",
       "      <th>4</th>\n",
       "      <td>趣味</td>\n",
       "      <td>バスケットボール\\n読書\\nガジェット集め</td>\n",
       "    </tr>\n",
       "  </tbody>\n",
       "</table>\n",
       "</div>"
      ],
      "text/plain": [
       "     項目                      値\n",
       "0   講師名                  今西 航平\n",
       "1  所属企業               株式会社キカガク\n",
       "2  生年月日             1994年7月15日\n",
       "3    出身                    千葉県\n",
       "4    趣味  バスケットボール\\n読書\\nガジェット集め"
      ]
     },
     "execution_count": 60,
     "metadata": {},
     "output_type": "execute_result"
    }
   ],
   "source": [
    "df"
   ]
  },
  {
   "cell_type": "code",
   "execution_count": 68,
   "id": "83089df1-9c2b-4bdb-acca-2c047e209d55",
   "metadata": {},
   "outputs": [],
   "source": [
    "df.to_csv('講師情報.csv',index = False)"
   ]
  },
  {
   "cell_type": "code",
   "execution_count": null,
   "id": "319e6b29-54ee-45bf-814f-902080e009b6",
   "metadata": {},
   "outputs": [],
   "source": []
  },
  {
   "cell_type": "code",
   "execution_count": null,
   "id": "e29ab15b-6176-4cee-b5c0-138e348ec4ba",
   "metadata": {},
   "outputs": [],
   "source": []
  }
 ],
 "metadata": {
  "kernelspec": {
   "display_name": "Python 3 (ipykernel)",
   "language": "python",
   "name": "python3"
  },
  "language_info": {
   "codemirror_mode": {
    "name": "ipython",
    "version": 3
   },
   "file_extension": ".py",
   "mimetype": "text/x-python",
   "name": "python",
   "nbconvert_exporter": "python",
   "pygments_lexer": "ipython3",
   "version": "3.9.10"
  }
 },
 "nbformat": 4,
 "nbformat_minor": 5
}
