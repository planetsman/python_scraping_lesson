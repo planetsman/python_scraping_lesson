{
 "cells": [
  {
   "cell_type": "code",
   "execution_count": 1,
   "id": "2c0a1d6b-69c2-4b45-bf52-bde61a97af6d",
   "metadata": {},
   "outputs": [],
   "source": [
    "import requests\n",
    "from bs4 import BeautifulSoup"
   ]
  },
  {
   "cell_type": "code",
   "execution_count": 10,
   "id": "f2fae580-af5f-4492-b12c-ce946b0018b0",
   "metadata": {},
   "outputs": [],
   "source": [
    "url = 'https://scraping-for-beginner.herokuapp.com/image'\n",
    "res = requests.get(url)"
   ]
  },
  {
   "cell_type": "code",
   "execution_count": 8,
   "id": "b2f756ad-ca37-4699-afbc-7bbefa871b4c",
   "metadata": {},
   "outputs": [],
   "source": [
    "soup = BeautifulSoup(res.text,'html.parser')\n",
    "# print(soup.prettify())"
   ]
  },
  {
   "cell_type": "code",
   "execution_count": 13,
   "id": "bf25a8c0-38ff-4492-8c69-0520b2d57d3f",
   "metadata": {},
   "outputs": [
    {
     "data": {
      "text/plain": [
       "'/static/assets/img/img1.JPG'"
      ]
     },
     "execution_count": 13,
     "metadata": {},
     "output_type": "execute_result"
    }
   ],
   "source": [
    "img_tag = soup.find('img')\n",
    "img_tag['src']"
   ]
  },
  {
   "cell_type": "code",
   "execution_count": 15,
   "id": "7e0fff5c-8140-40c8-b30a-eccea7a766ed",
   "metadata": {},
   "outputs": [],
   "source": [
    "root_url = 'https://scraping-for-beginner.herokuapp.com/image'"
   ]
  },
  {
   "cell_type": "code",
   "execution_count": 17,
   "id": "80336626-983c-4230-a9eb-a3a1437eb692",
   "metadata": {},
   "outputs": [],
   "source": [
    "img_url = root_url + img_tag['src']"
   ]
  },
  {
   "cell_type": "code",
   "execution_count": null,
   "id": "77045ff5-748a-4597-873b-edc19d131c4e",
   "metadata": {},
   "outputs": [],
   "source": []
  },
  {
   "cell_type": "code",
   "execution_count": null,
   "id": "c7e662c2-e336-4145-8f94-328f4c825ef6",
   "metadata": {},
   "outputs": [],
   "source": []
  },
  {
   "cell_type": "code",
   "execution_count": null,
   "id": "437304d2-5ad3-43b9-899f-ed335225a6ca",
   "metadata": {},
   "outputs": [],
   "source": []
  },
  {
   "cell_type": "code",
   "execution_count": null,
   "id": "2dc9839a-7fc9-4bd3-a5b4-cf3e30f95ac5",
   "metadata": {},
   "outputs": [],
   "source": []
  },
  {
   "cell_type": "code",
   "execution_count": null,
   "id": "a0585e17-8a1b-43b6-bbc9-b965a67896d5",
   "metadata": {},
   "outputs": [],
   "source": []
  },
  {
   "cell_type": "code",
   "execution_count": null,
   "id": "396bfdbc-31a7-4916-b604-28a81bcbee23",
   "metadata": {},
   "outputs": [],
   "source": []
  },
  {
   "cell_type": "code",
   "execution_count": null,
   "id": "1f143caa-4b0e-4da3-882e-d01e7c2fc45e",
   "metadata": {},
   "outputs": [],
   "source": []
  }
 ],
 "metadata": {
  "kernelspec": {
   "display_name": "Python 3 (ipykernel)",
   "language": "python",
   "name": "python3"
  },
  "language_info": {
   "codemirror_mode": {
    "name": "ipython",
    "version": 3
   },
   "file_extension": ".py",
   "mimetype": "text/x-python",
   "name": "python",
   "nbconvert_exporter": "python",
   "pygments_lexer": "ipython3",
   "version": "3.9.10"
  }
 },
 "nbformat": 4,
 "nbformat_minor": 5
}
