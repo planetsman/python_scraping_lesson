{
 "cells": [
  {
   "cell_type": "code",
   "execution_count": 1,
   "id": "2c0a1d6b-69c2-4b45-bf52-bde61a97af6d",
   "metadata": {},
   "outputs": [],
   "source": [
    "import requests\n",
    "from bs4 import BeautifulSoup"
   ]
  },
  {
   "cell_type": "code",
   "execution_count": 2,
   "id": "f2fae580-af5f-4492-b12c-ce946b0018b0",
   "metadata": {},
   "outputs": [],
   "source": [
    "url = 'https://scraping-for-beginner.herokuapp.com/image'\n",
    "res = requests.get(url)"
   ]
  },
  {
   "cell_type": "code",
   "execution_count": 3,
   "id": "b2f756ad-ca37-4699-afbc-7bbefa871b4c",
   "metadata": {},
   "outputs": [],
   "source": [
    "soup = BeautifulSoup(res.text,'html.parser')\n",
    "# print(soup.prettify())"
   ]
  },
  {
   "cell_type": "code",
   "execution_count": 4,
   "id": "bf25a8c0-38ff-4492-8c69-0520b2d57d3f",
   "metadata": {},
   "outputs": [
    {
     "data": {
      "text/plain": [
       "'/static/assets/img/img1.JPG'"
      ]
     },
     "execution_count": 4,
     "metadata": {},
     "output_type": "execute_result"
    }
   ],
   "source": [
    "img_tag = soup.find('img')\n",
    "img_tag['src']"
   ]
  },
  {
   "cell_type": "code",
   "execution_count": 8,
   "id": "7e0fff5c-8140-40c8-b30a-eccea7a766ed",
   "metadata": {},
   "outputs": [],
   "source": [
    "root_url = 'https://scraping-for-beginner.herokuapp.com'"
   ]
  },
  {
   "cell_type": "code",
   "execution_count": 9,
   "id": "80336626-983c-4230-a9eb-a3a1437eb692",
   "metadata": {},
   "outputs": [
    {
     "data": {
      "text/plain": [
       "'https://scraping-for-beginner.herokuapp.com/static/assets/img/img1.JPG'"
      ]
     },
     "execution_count": 9,
     "metadata": {},
     "output_type": "execute_result"
    }
   ],
   "source": [
    "img_url = root_url + img_tag['src']\n",
    "img_url"
   ]
  },
  {
   "cell_type": "code",
   "execution_count": 10,
   "id": "77045ff5-748a-4597-873b-edc19d131c4e",
   "metadata": {},
   "outputs": [],
   "source": [
    "# 画像処理ライブラリPillow(PIL)\n",
    "from PIL import Image\n",
    "# ioモジュールのインポート\n",
    "import io"
   ]
  },
  {
   "cell_type": "code",
   "execution_count": 20,
   "id": "c7e662c2-e336-4145-8f94-328f4c825ef6",
   "metadata": {},
   "outputs": [],
   "source": [
    "# 画像の取得\n",
    "img = Image.open(io.BytesIO(requests.get(img_url).content))\n",
    "# 画像を保存\n",
    "img.save('img/sample.jpeg')"
   ]
  },
  {
   "cell_type": "code",
   "execution_count": 21,
   "id": "437304d2-5ad3-43b9-899f-ed335225a6ca",
   "metadata": {},
   "outputs": [],
   "source": [
    "soup = BeautifulSoup(res.text,'html.parser')\n",
    "img_tag = soup.find('img')\n",
    "\n",
    "root_url = 'https://scraping-for-beginner.herokuapp.com'\n",
    "img_url = root_url + img_tag['src']\n",
    "\n",
    "img = Image.open(io.BytesIO(requests.get(img_url).content))\n",
    "img.save('img/sample.jpeg')"
   ]
  },
  {
   "cell_type": "code",
   "execution_count": 28,
   "id": "0ce5def9-e029-4e76-9bea-4875280d6106",
   "metadata": {},
   "outputs": [],
   "source": [
    "# 複数の画像を取得\n",
    "img_tags = soup.find_all('img')\n",
    "# インデックス番号(i)を振って画像を取得\n",
    "for i,img_tag in enumerate(img_tags):\n",
    "    # print(i,img_tag)\n",
    "    root_url = 'https://scraping-for-beginner.herokuapp.com'\n",
    "    img_url = root_url + img_tag['src']\n",
    "\n",
    "    img = Image.open(io.BytesIO(requests.get(img_url).content))\n",
    "    img.save(f'img/{i}.jpeg')"
   ]
  },
  {
   "cell_type": "code",
   "execution_count": null,
   "id": "490758a6-fb54-4967-88bb-23ac667620dd",
   "metadata": {},
   "outputs": [],
   "source": []
  },
  {
   "cell_type": "code",
   "execution_count": null,
   "id": "e5ef207e-44f0-4df2-b92b-046401a79991",
   "metadata": {},
   "outputs": [],
   "source": []
  },
  {
   "cell_type": "code",
   "execution_count": null,
   "id": "ce0ae57d-8819-4e09-86a6-6fa47a00b148",
   "metadata": {},
   "outputs": [],
   "source": []
  },
  {
   "cell_type": "code",
   "execution_count": null,
   "id": "b0805977-51b0-404a-a10b-9fd4dfc93d3a",
   "metadata": {},
   "outputs": [],
   "source": []
  },
  {
   "cell_type": "code",
   "execution_count": null,
   "id": "aa4b4850-4c58-4caf-a3d3-7fdf95a69169",
   "metadata": {},
   "outputs": [],
   "source": []
  },
  {
   "cell_type": "code",
   "execution_count": null,
   "id": "e9313a1c-5e4a-44e1-a2d0-97db7c1d6820",
   "metadata": {},
   "outputs": [],
   "source": []
  },
  {
   "cell_type": "code",
   "execution_count": null,
   "id": "4b4b062b-0cf9-4a2d-bbd1-1784db5bbaec",
   "metadata": {},
   "outputs": [],
   "source": []
  },
  {
   "cell_type": "code",
   "execution_count": null,
   "id": "2dc9839a-7fc9-4bd3-a5b4-cf3e30f95ac5",
   "metadata": {},
   "outputs": [],
   "source": []
  },
  {
   "cell_type": "code",
   "execution_count": null,
   "id": "a0585e17-8a1b-43b6-bbc9-b965a67896d5",
   "metadata": {},
   "outputs": [],
   "source": []
  },
  {
   "cell_type": "code",
   "execution_count": null,
   "id": "396bfdbc-31a7-4916-b604-28a81bcbee23",
   "metadata": {},
   "outputs": [],
   "source": []
  },
  {
   "cell_type": "code",
   "execution_count": null,
   "id": "1f143caa-4b0e-4da3-882e-d01e7c2fc45e",
   "metadata": {},
   "outputs": [],
   "source": []
  }
 ],
 "metadata": {
  "kernelspec": {
   "display_name": "Python 3 (ipykernel)",
   "language": "python",
   "name": "python3"
  },
  "language_info": {
   "codemirror_mode": {
    "name": "ipython",
    "version": 3
   },
   "file_extension": ".py",
   "mimetype": "text/x-python",
   "name": "python",
   "nbconvert_exporter": "python",
   "pygments_lexer": "ipython3",
   "version": "3.9.10"
  }
 },
 "nbformat": 4,
 "nbformat_minor": 5
}
